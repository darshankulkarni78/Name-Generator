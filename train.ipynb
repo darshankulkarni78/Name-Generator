{
 "cells": [
  {
   "cell_type": "code",
   "execution_count": null,
   "metadata": {},
   "outputs": [],
   "source": [
    "import torch\n",
    "import torch.nn.functional as F\n",
    "from sklearn.model_selection import train_test_split\n",
    "import random"
   ]
  },
  {
   "cell_type": "code",
   "execution_count": 2,
   "metadata": {},
   "outputs": [],
   "source": [
    "words = open('names.txt').read().splitlines()"
   ]
  },
  {
   "cell_type": "code",
   "execution_count": 3,
   "metadata": {},
   "outputs": [],
   "source": [
    "char = sorted(list(set(''.join(words))))\n",
    "stoi = {s:i+1 for i,s in enumerate(char)}\n",
    "itos = {i+1:s for i,s in enumerate(char)}\n",
    "stoi['.'] = 0\n",
    "itos[0] = '.'"
   ]
  },
  {
   "cell_type": "code",
   "execution_count": 4,
   "metadata": {},
   "outputs": [],
   "source": [
    "block_size = 4 #using how many input letters it should predict the next letter.\n",
    "x = []\n",
    "y = []\n",
    "\n",
    "for w in words:\n",
    "    context = [0] * block_size #list storing the index of the char acc to the stoi/itos for storing in x.\n",
    "    for ch in w + '.':\n",
    "        idx = stoi[ch]\n",
    "        x.append(context)\n",
    "        y.append(idx)\n",
    "        # print(''.join(itos[i] for i in context), '-->', itos[idx])\n",
    "        context = context[1:] + [idx]"
   ]
  },
  {
   "cell_type": "code",
   "execution_count": 5,
   "metadata": {},
   "outputs": [],
   "source": [
    "x = torch.tensor(x)\n",
    "y = torch.tensor(y)"
   ]
  },
  {
   "cell_type": "code",
   "execution_count": 6,
   "metadata": {},
   "outputs": [],
   "source": [
    "from sklearn.model_selection import train_test_split\n",
    "xtr, xtemp, ytr, ytemp = train_test_split(x, y, test_size= 0.2, random_state= 42)"
   ]
  },
  {
   "cell_type": "code",
   "execution_count": 7,
   "metadata": {},
   "outputs": [],
   "source": [
    "xval, xtest, yval, ytest = train_test_split(xtemp, ytemp, test_size= 0.5, random_state=43)"
   ]
  },
  {
   "cell_type": "code",
   "execution_count": 8,
   "metadata": {},
   "outputs": [
    {
     "data": {
      "text/plain": [
       "(torch.Size([182516, 4]),\n",
       " torch.Size([182516]),\n",
       " torch.Size([22815, 4]),\n",
       " torch.Size([22815]),\n",
       " torch.Size([22815, 4]),\n",
       " torch.Size([22815]))"
      ]
     },
     "execution_count": 8,
     "metadata": {},
     "output_type": "execute_result"
    }
   ],
   "source": [
    "xtr.shape, ytr.shape, xval.shape, yval.shape, xtest.shape, ytest.shape"
   ]
  },
  {
   "cell_type": "code",
   "execution_count": 9,
   "metadata": {},
   "outputs": [],
   "source": [
    "g = torch.Generator().manual_seed(2147435354347)\n",
    "C = torch.randn((27,10), generator=g)\n",
    "w1 = torch.randn((40, 200), generator=g) * 0.2\n",
    "b1 = torch.randn((200), generator=g) * 0.01\n",
    "w2 = torch.randn((200,27), generator=g) * 0.01\n",
    "b2 = torch.randn((27), generator=g) * 0\n",
    "parameters = [C, w1, b1, w2, b2]"
   ]
  },
  {
   "cell_type": "code",
   "execution_count": 10,
   "metadata": {},
   "outputs": [
    {
     "data": {
      "text/plain": [
       "13897"
      ]
     },
     "execution_count": 10,
     "metadata": {},
     "output_type": "execute_result"
    }
   ],
   "source": [
    "sum(p.numel() for p in parameters)"
   ]
  },
  {
   "cell_type": "code",
   "execution_count": 11,
   "metadata": {},
   "outputs": [],
   "source": [
    "for p in parameters:\n",
    "    p.requires_grad = True"
   ]
  },
  {
   "cell_type": "code",
   "execution_count": 12,
   "metadata": {},
   "outputs": [],
   "source": [
    "for i in range(200000):  \n",
    "\n",
    "    #constructing minibatches\n",
    "    ix = torch.randint(0, xtr.shape[0], (200,))\n",
    "\n",
    "\n",
    "    #Forward Pass\n",
    "    emb = C[xtr[ix]]\n",
    "    hidden = torch.tanh(emb.view([-1,40]) @ w1 + b1)\n",
    "    logits = hidden @ w2 + b2\n",
    "    loss = F.cross_entropy(logits, ytr[ix])\n",
    "    # print(loss.item())\n",
    "\n",
    "    #Backward Pass\n",
    "    for p in parameters:\n",
    "        p.grad = None\n",
    "    loss.backward()\n",
    "\n",
    "    #Update\n",
    "    for p in parameters:\n",
    "        if i < 120000:\n",
    "            p.data += -0.1 * p.grad\n",
    "        else:\n",
    "            p.data += -0.01 * p.grad"
   ]
  },
  {
   "cell_type": "code",
   "execution_count": 13,
   "metadata": {},
   "outputs": [
    {
     "name": "stdout",
     "output_type": "stream",
     "text": [
      "1.9314604997634888\n"
     ]
    }
   ],
   "source": [
    "emb = C[xtr]\n",
    "hidden = torch.tanh(emb.view([-1,40]) @ w1 + b1)\n",
    "logits = hidden @ w2 + b2\n",
    "loss = F.cross_entropy(logits, ytr)\n",
    "print(loss.item())"
   ]
  },
  {
   "cell_type": "code",
   "execution_count": 14,
   "metadata": {},
   "outputs": [
    {
     "name": "stdout",
     "output_type": "stream",
     "text": [
      "2.0624115467071533\n"
     ]
    }
   ],
   "source": [
    "emb = C[xval]\n",
    "hidden = torch.tanh(emb.view([-1,40]) @ w1 + b1)\n",
    "logits = hidden @ w2 + b2\n",
    "loss = F.cross_entropy(logits, yval)\n",
    "print(loss.item())"
   ]
  },
  {
   "cell_type": "code",
   "execution_count": 15,
   "metadata": {},
   "outputs": [
    {
     "name": "stdout",
     "output_type": "stream",
     "text": [
      "kahde.\n",
      "zakaridu.\n",
      "dhay.\n",
      "quay.\n",
      "ro.\n"
     ]
    }
   ],
   "source": [
    "# sample from the model\n",
    "g = torch.Generator().manual_seed(2147483647 + 12)\n",
    "\n",
    "for _ in range(5):\n",
    "    \n",
    "    out = []\n",
    "    context = [0] * block_size\n",
    "    while True:\n",
    "      emb = C[torch.tensor([context])] # (1,block_size,d)\n",
    "      h = torch.tanh(emb.view(1, -1) @ w1 + b1)\n",
    "      logits = h @ w2 + b2\n",
    "      probs = F.softmax(logits, dim=1)\n",
    "      ix = torch.multinomial(probs, num_samples=1, generator=g).item()\n",
    "      context = context[1:] + [ix]\n",
    "      out.append(ix)\n",
    "      if ix == 0:\n",
    "        break\n",
    "    \n",
    "    print(''.join(itos[i] for i in out))"
   ]
  },
  {
   "cell_type": "code",
   "execution_count": null,
   "metadata": {},
   "outputs": [],
   "source": []
  }
 ],
 "metadata": {
  "kernelspec": {
   "display_name": "Python 3",
   "language": "python",
   "name": "python3"
  },
  "language_info": {
   "codemirror_mode": {
    "name": "ipython",
    "version": 3
   },
   "file_extension": ".py",
   "mimetype": "text/x-python",
   "name": "python",
   "nbconvert_exporter": "python",
   "pygments_lexer": "ipython3",
   "version": "3.12.5"
  }
 },
 "nbformat": 4,
 "nbformat_minor": 2
}
